{
 "cells": [
  {
   "attachments": {},
   "cell_type": "markdown",
   "metadata": {},
   "source": [
    "# Using an RNN for sentiment classification\n",
    "\n",
    "> Many-to-one recurrent neural networks can be used for sentiment classification\n",
    "\n",
    "> Sentiment classification is a multiclass classification problem"
   ]
  },
  {
   "cell_type": "code",
   "execution_count": 8,
   "metadata": {},
   "outputs": [
    {
     "name": "stdout",
     "output_type": "stream",
     "text": [
      "Requirement already satisfied: datasets in /Users/ice/opt/miniconda3/lib/python3.9/site-packages (2.6.1)\n",
      "Requirement already satisfied: packaging in /Users/ice/opt/miniconda3/lib/python3.9/site-packages (from datasets) (21.3)\n",
      "Requirement already satisfied: tqdm>=4.62.1 in /Users/ice/opt/miniconda3/lib/python3.9/site-packages (from datasets) (4.64.1)\n",
      "Requirement already satisfied: responses<0.19 in /Users/ice/opt/miniconda3/lib/python3.9/site-packages (from datasets) (0.13.3)\n",
      "Requirement already satisfied: pandas in /Users/ice/opt/miniconda3/lib/python3.9/site-packages (from datasets) (1.4.2)\n",
      "Requirement already satisfied: huggingface-hub<1.0.0,>=0.2.0 in /Users/ice/opt/miniconda3/lib/python3.9/site-packages (from datasets) (0.11.1)\n",
      "Requirement already satisfied: dill<0.3.7 in /Users/ice/opt/miniconda3/lib/python3.9/site-packages (from datasets) (0.3.6)\n",
      "Requirement already satisfied: multiprocess in /Users/ice/opt/miniconda3/lib/python3.9/site-packages (from datasets) (0.70.14)\n",
      "Requirement already satisfied: fsspec[http]>=2021.11.1 in /Users/ice/opt/miniconda3/lib/python3.9/site-packages (from datasets) (2022.11.0)\n",
      "Requirement already satisfied: pyarrow>=6.0.0 in /Users/ice/opt/miniconda3/lib/python3.9/site-packages (from datasets) (8.0.0)\n",
      "Requirement already satisfied: pyyaml>=5.1 in /Users/ice/opt/miniconda3/lib/python3.9/site-packages (from datasets) (6.0)\n",
      "Requirement already satisfied: requests>=2.19.0 in /Users/ice/opt/miniconda3/lib/python3.9/site-packages (from datasets) (2.25.1)\n",
      "Requirement already satisfied: aiohttp in /Users/ice/opt/miniconda3/lib/python3.9/site-packages (from datasets) (3.8.1)\n",
      "Requirement already satisfied: xxhash in /Users/ice/opt/miniconda3/lib/python3.9/site-packages (from datasets) (0.0.0)\n",
      "Requirement already satisfied: numpy>=1.17 in /Users/ice/opt/miniconda3/lib/python3.9/site-packages (from datasets) (1.21.2)\n",
      "Requirement already satisfied: aiosignal>=1.1.2 in /Users/ice/opt/miniconda3/lib/python3.9/site-packages (from aiohttp->datasets) (1.2.0)\n",
      "Requirement already satisfied: multidict<7.0,>=4.5 in /Users/ice/opt/miniconda3/lib/python3.9/site-packages (from aiohttp->datasets) (5.2.0)\n",
      "Requirement already satisfied: yarl<2.0,>=1.0 in /Users/ice/opt/miniconda3/lib/python3.9/site-packages (from aiohttp->datasets) (1.6.3)\n",
      "Requirement already satisfied: attrs>=17.3.0 in /Users/ice/opt/miniconda3/lib/python3.9/site-packages (from aiohttp->datasets) (21.4.0)\n",
      "Requirement already satisfied: async-timeout<5.0,>=4.0.0a3 in /Users/ice/opt/miniconda3/lib/python3.9/site-packages (from aiohttp->datasets) (4.0.1)\n",
      "Requirement already satisfied: charset-normalizer<3.0,>=2.0 in /Users/ice/opt/miniconda3/lib/python3.9/site-packages (from aiohttp->datasets) (2.0.4)\n",
      "Requirement already satisfied: frozenlist>=1.1.1 in /Users/ice/opt/miniconda3/lib/python3.9/site-packages (from aiohttp->datasets) (1.2.0)\n",
      "Requirement already satisfied: typing-extensions>=3.6.5 in /Users/ice/opt/miniconda3/lib/python3.9/site-packages (from async-timeout<5.0,>=4.0.0a3->aiohttp->datasets) (4.3.0)\n",
      "Requirement already satisfied: filelock in /Users/ice/opt/miniconda3/lib/python3.9/site-packages (from huggingface-hub<1.0.0,>=0.2.0->datasets) (3.8.2)\n",
      "Requirement already satisfied: pyparsing!=3.0.5,>=2.0.2 in /Users/ice/opt/miniconda3/lib/python3.9/site-packages (from packaging->datasets) (3.0.4)\n",
      "Requirement already satisfied: certifi>=2017.4.17 in /Users/ice/opt/miniconda3/lib/python3.9/site-packages (from requests>=2.19.0->datasets) (2022.12.7)\n",
      "Requirement already satisfied: chardet<5,>=3.0.2 in /Users/ice/opt/miniconda3/lib/python3.9/site-packages (from requests>=2.19.0->datasets) (4.0.0)\n",
      "Requirement already satisfied: idna<3,>=2.5 in /Users/ice/opt/miniconda3/lib/python3.9/site-packages (from requests>=2.19.0->datasets) (2.10)\n",
      "Requirement already satisfied: urllib3<1.27,>=1.21.1 in /Users/ice/opt/miniconda3/lib/python3.9/site-packages (from requests>=2.19.0->datasets) (1.26.6)\n",
      "Requirement already satisfied: six in /Users/ice/opt/miniconda3/lib/python3.9/site-packages (from responses<0.19->datasets) (1.16.0)\n",
      "Requirement already satisfied: python-dateutil>=2.8.1 in /Users/ice/opt/miniconda3/lib/python3.9/site-packages (from pandas->datasets) (2.8.2)\n",
      "Requirement already satisfied: pytz>=2020.1 in /Users/ice/opt/miniconda3/lib/python3.9/site-packages (from pandas->datasets) (2021.3)\n",
      "Requirement already satisfied: transformers in /Users/ice/opt/miniconda3/lib/python3.9/site-packages (4.25.1)\n",
      "Requirement already satisfied: tqdm>=4.27 in /Users/ice/opt/miniconda3/lib/python3.9/site-packages (from transformers) (4.64.1)\n",
      "Requirement already satisfied: numpy>=1.17 in /Users/ice/opt/miniconda3/lib/python3.9/site-packages (from transformers) (1.21.2)\n",
      "Requirement already satisfied: packaging>=20.0 in /Users/ice/opt/miniconda3/lib/python3.9/site-packages (from transformers) (21.3)\n",
      "Requirement already satisfied: huggingface-hub<1.0,>=0.10.0 in /Users/ice/opt/miniconda3/lib/python3.9/site-packages (from transformers) (0.11.1)\n",
      "Requirement already satisfied: regex!=2019.12.17 in /Users/ice/opt/miniconda3/lib/python3.9/site-packages (from transformers) (2022.7.9)\n",
      "Requirement already satisfied: filelock in /Users/ice/opt/miniconda3/lib/python3.9/site-packages (from transformers) (3.8.2)\n",
      "Requirement already satisfied: requests in /Users/ice/opt/miniconda3/lib/python3.9/site-packages (from transformers) (2.25.1)\n",
      "Requirement already satisfied: pyyaml>=5.1 in /Users/ice/opt/miniconda3/lib/python3.9/site-packages (from transformers) (6.0)\n",
      "Requirement already satisfied: tokenizers!=0.11.3,<0.14,>=0.11.1 in /Users/ice/opt/miniconda3/lib/python3.9/site-packages (from transformers) (0.11.4)\n",
      "Requirement already satisfied: typing-extensions>=3.7.4.3 in /Users/ice/opt/miniconda3/lib/python3.9/site-packages (from huggingface-hub<1.0,>=0.10.0->transformers) (4.3.0)\n",
      "Requirement already satisfied: pyparsing!=3.0.5,>=2.0.2 in /Users/ice/opt/miniconda3/lib/python3.9/site-packages (from packaging>=20.0->transformers) (3.0.4)\n",
      "Requirement already satisfied: certifi>=2017.4.17 in /Users/ice/opt/miniconda3/lib/python3.9/site-packages (from requests->transformers) (2022.12.7)\n",
      "Requirement already satisfied: chardet<5,>=3.0.2 in /Users/ice/opt/miniconda3/lib/python3.9/site-packages (from requests->transformers) (4.0.0)\n",
      "Requirement already satisfied: idna<3,>=2.5 in /Users/ice/opt/miniconda3/lib/python3.9/site-packages (from requests->transformers) (2.10)\n",
      "Requirement already satisfied: urllib3<1.27,>=1.21.1 in /Users/ice/opt/miniconda3/lib/python3.9/site-packages (from requests->transformers) (1.26.6)\n",
      "Requirement already satisfied: torch in /Users/ice/opt/miniconda3/lib/python3.9/site-packages (1.12.1)\n",
      "Requirement already satisfied: typing_extensions in /Users/ice/opt/miniconda3/lib/python3.9/site-packages (from torch) (4.3.0)\n"
     ]
    }
   ],
   "source": [
    "!pip install datasets\n",
    "!pip install transformers\n",
    "!pip install torch"
   ]
  },
  {
   "attachments": {},
   "cell_type": "markdown",
   "metadata": {},
   "source": [
    "We can find a classic sentiment classification dataset [here](https://huggingface.co/datasets/carblacac/twitter-sentiment-analysis) on HuggingFace and start using it as shown in the snippet on that page, copied in below:"
   ]
  },
  {
   "cell_type": "code",
   "execution_count": 9,
   "metadata": {},
   "outputs": [
    {
     "name": "stderr",
     "output_type": "stream",
     "text": [
      "Using custom data configuration None\n",
      "Found cached dataset twitter-sentiment-analysis (/Users/ice/.cache/huggingface/datasets/carblacac___twitter-sentiment-analysis/None/1.0.0/cd65e23e456de6a4f7264e305380b0ffe804d6f5bfd361c0ec0f68d8d1fab95b)\n",
      "100%|██████████| 3/3 [00:00<00:00, 68.40it/s]\n"
     ]
    }
   ],
   "source": [
    "from datasets import load_dataset\n",
    "\n",
    "dataset = load_dataset(\"carblacac/twitter-sentiment-analysis\", \"None\")"
   ]
  },
  {
   "attachments": {},
   "cell_type": "markdown",
   "metadata": {},
   "source": [
    "Let's take a look at the dataset."
   ]
  },
  {
   "cell_type": "code",
   "execution_count": 10,
   "metadata": {},
   "outputs": [
    {
     "name": "stdout",
     "output_type": "stream",
     "text": [
      "DatasetDict({\n",
      "    train: Dataset({\n",
      "        features: ['text', 'feeling'],\n",
      "        num_rows: 119988\n",
      "    })\n",
      "    validation: Dataset({\n",
      "        features: ['text', 'feeling'],\n",
      "        num_rows: 29997\n",
      "    })\n",
      "    test: Dataset({\n",
      "        features: ['text', 'feeling'],\n",
      "        num_rows: 61998\n",
      "    })\n",
      "})\n"
     ]
    }
   ],
   "source": [
    "print(dataset)"
   ]
  },
  {
   "attachments": {},
   "cell_type": "markdown",
   "metadata": {},
   "source": [
    "It is a dictionary-looking object, with three keys, each mapping to the train, validation, or test split of the dataset. We'll work with the training set split until later."
   ]
  },
  {
   "cell_type": "code",
   "execution_count": 11,
   "metadata": {},
   "outputs": [
    {
     "name": "stdout",
     "output_type": "stream",
     "text": [
      "Dataset({\n",
      "    features: ['text', 'feeling'],\n",
      "    num_rows: 119988\n",
      "})\n"
     ]
    }
   ],
   "source": [
    "train_set = dataset[\"train\"]\n",
    "print(train_set)"
   ]
  },
  {
   "attachments": {},
   "cell_type": "markdown",
   "metadata": {},
   "source": [
    "Let's print a single example."
   ]
  },
  {
   "cell_type": "code",
   "execution_count": 12,
   "metadata": {},
   "outputs": [
    {
     "name": "stdout",
     "output_type": "stream",
     "text": [
      "{'text': '@fa6ami86 so happy that salman won.  btw the 14sec clip is truely a teaser', 'feeling': 0}\n"
     ]
    }
   ],
   "source": [
    "for example in train_set:\n",
    "  print(example)\n",
    "  break\n"
   ]
  },
  {
   "attachments": {},
   "cell_type": "markdown",
   "metadata": {},
   "source": [
    "You can see that it's a dictionary with two keys `text` and `feeling`.\n",
    "\n",
    "As described in the [documentation](https://huggingface.co/datasets/carblacac/twitter-sentiment-analysis), the `feeling` is a binary value, zero or one. A zero indicates that the text of the tweet is negative. A one indicates that the text of the tweet is positive."
   ]
  },
  {
   "cell_type": "code",
   "execution_count": 13,
   "metadata": {},
   "outputs": [
    {
     "name": "stdout",
     "output_type": "stream",
     "text": [
      " When the dataset was being created, someone manually labelled '@fa6ami86 so happy that salman won.  btw the 14sec clip is truely a teaser' as negative\n"
     ]
    }
   ],
   "source": [
    "idx_to_sentiment = {\n",
    "    0: \"negative\",\n",
    "    1: \"positive\"\n",
    "}\n",
    "\n",
    "example_tweet = example[\"text\"]\n",
    "example_sentiment = example[\"feeling\"]\n",
    "\n",
    "print(f\" When the dataset was being created, someone manually labelled '{example_tweet}' as {idx_to_sentiment[example_sentiment]}\")"
   ]
  },
  {
   "cell_type": "markdown",
   "metadata": {},
   "source": [
    "Now we have our raw text and integer sentiment labels, we need to tokenise the text. We can do this using a pre-trained tokeniser."
   ]
  },
  {
   "cell_type": "code",
   "execution_count": 14,
   "metadata": {},
   "outputs": [
    {
     "name": "stderr",
     "output_type": "stream",
     "text": [
      "Downloading: 100%|██████████| 466k/466k [00:00<00:00, 1.28MB/s]\n"
     ]
    },
    {
     "name": "stdout",
     "output_type": "stream",
     "text": [
      "[101, 2023, 2003, 2061, 10990, 999, 102]\n"
     ]
    }
   ],
   "source": [
    "# TOKENISE\n",
    "from transformers import AutoTokenizer\n",
    "tokenizer = AutoTokenizer.from_pretrained(\"bert-base-uncased\")\n",
    "\n",
    "sentence = \"This is so exciting!\"\n",
    "\n",
    "print(tokenizer.encode(sentence))\n"
   ]
  },
  {
   "attachments": {},
   "cell_type": "markdown",
   "metadata": {},
   "source": [
    "## Text Preprocessing Pipeline\n"
   ]
  },
  {
   "cell_type": "code",
   "execution_count": 18,
   "metadata": {},
   "outputs": [
    {
     "name": "stdout",
     "output_type": "stream",
     "text": [
      "@fa6ami86 so happy that salman won.  btw the 14sec clip is truely a teaser\n",
      "tensor([  101,  1030,  6904,  2575, 10631, 20842,  2061,  3407,  2008, 28542,\n",
      "         2180,  1012, 18411,  2860,  1996,  2403,  3366,  2278, 12528,  2003,\n",
      "         2995,  2135,  1037, 27071,   102])\n"
     ]
    }
   ],
   "source": [
    "import torch\n",
    "\n",
    "def preprocess_text(text):\n",
    "    # TODO remove twitter handles\n",
    "    text = tokenizer.encode(text) # TODO tokenise\n",
    "    text = torch.tensor(text) # TODO cast to torch tensor\n",
    "    return text\n",
    "\n",
    "\n",
    "example_text = example[\"text\"]\n",
    "print(example_text)\n",
    "processed_text = preprocess_text(example_text)\n",
    "print(processed_text)"
   ]
  },
  {
   "attachments": {},
   "cell_type": "markdown",
   "metadata": {},
   "source": [
    "Now our data is ready, let's build the RNN classification model.\n",
    "\n",
    "Before diving in, it's important to understand that PyTorch's RNN layer works a little differently to other layers:\n",
    "- It outputs two tensors in a tuple `(out, hidden)`\n",
    "    - `out` contains: \n",
    "        - the hidden state of the last RNN layer, for every timestep\n",
    "    - `hidden` contains:\n",
    "        - the hidden state of the all RNN layers, for the last timestep\n",
    "\n",
    "Why does the RNN layer have that output?\n",
    "- Depending on the problem you're tackling, you may need different things\n",
    "- Problems where RNNs output a sequence, need the hidden state for every timestep\n",
    "- In some problems, where you want to use the internal state to represent something, like an embedding of some sequence data, use the hidden states as that representation\n",
    "\n",
    "> RNNs break one of my favourite PyTorch rules: \"the first dimension is the batch dimension\". Instead, the first dimension is by default the time (sequence position) dimension\n",
    "\n",
    "![](./images/RNN%20outputs.png)\n",
    "\n",
    "Taking a look at the input and output parameter sizes for each layer in the [docs](https://pytorch.org/docs/stable/generated/torch.nn.RNN.html) will be usful here."
   ]
  },
  {
   "cell_type": "code",
   "execution_count": 37,
   "metadata": {},
   "outputs": [
    {
     "name": "stdout",
     "output_type": "stream",
     "text": [
      "tensor([[0.4781]], grad_fn=<SigmoidBackward0>)\n"
     ]
    }
   ],
   "source": [
    "class RNN(torch.nn.Module):\n",
    "  def __init__(self, vocab_size, hidden_size):\n",
    "    \"\"\"\n",
    "    Parameters\n",
    "    ----------\n",
    "    vocab_size : int\n",
    "      The number of different words that the RNN needs to be able to embed\n",
    "\n",
    "    hidden_size : int\n",
    "      The size of the internal vector representation in each layer of the RNN\n",
    "    \"\"\"\n",
    "    super().__init__()\n",
    "    self.embedding = torch.nn.Embedding(vocab_size, hidden_size)\n",
    "    self.rnn = torch.nn.RNN(hidden_size, hidden_size, num_layers=1, bidirectional=False)\n",
    "    self.linear = torch.nn.Linear(hidden_size, 1)\n",
    "\n",
    "  def forward(self, X):\n",
    "    \"\"\"\n",
    "    Parameters\n",
    "    ----------\n",
    "    X : torch.tensor Size (T, D)\n",
    "      A single example's tensor of input sequence tokens\n",
    "    \"\"\"\n",
    "    X = X.unsqueeze(1) # (T, B, D)\n",
    "    embedding = self.embedding(X) # TODO get embedding of input\n",
    "    \n",
    "    outputs, final_hidden = self.rnn(embedding)\n",
    "\n",
    "    final_output = outputs[-1]\n",
    "    logit = self.linear(final_output)\n",
    "    # print(logit)\n",
    "    probability = torch.sigmoid(logit)\n",
    "    return probability\n",
    "\n",
    "\n",
    "vocab_size = len(tokenizer.get_vocab())\n",
    "\n",
    "test_example = preprocess_text(example[\"text\"])\n",
    "\n",
    "rnn = RNN(vocab_size, hidden_size=128)\n",
    "prediction = rnn(test_example)\n",
    "\n",
    "print(prediction)"
   ]
  },
  {
   "cell_type": "markdown",
   "metadata": {},
   "source": [
    "Now it's time to implement the training loop"
   ]
  },
  {
   "cell_type": "code",
   "execution_count": 41,
   "metadata": {},
   "outputs": [
    {
     "name": "stdout",
     "output_type": "stream",
     "text": [
      "{'text': '@fa6ami86 so happy that salman won.  btw the 14sec clip is truely a teaser', 'feeling': 0}\n",
      "{'text': \"@phantompoptart .......oops.... I guess I'm kinda out of it.... Blonde moment -blushes- epic fail\", 'feeling': 0}\n",
      "{'text': \"@bradleyjp decidedly undecided. Depends on the situation. When I'm out with the people I'll be in Chicago with? Maybe.\", 'feeling': 1}\n",
      "{'text': '@Mountgrace lol i know! its so frustrating isnt it?!', 'feeling': 1}\n",
      "{'text': \"@kathystover Didn't go much of any where - Life took over for a while\", 'feeling': 1}\n",
      "{'text': '@TashaWilson like questions she asks me the date etc..i say that i have been to birmingham lol its weird o well  u ok?', 'feeling': 1}\n",
      "{'text': \"@lisastarlynn I haven't heard anything. I'll tweet you as soon as I hear. I'm really worried actually\", 'feeling': 0}\n",
      "{'text': '@SusanCosmos @speakgirl Thx 4 sharing!', 'feeling': 1}\n",
      "{'text': '@lamere thank you so much, looking at these pics makes me want to have one more', 'feeling': 0}\n",
      "{'text': 'not it teh best form today, dont no why, just having a pissy day, i am all ways happy but to day ah not really   annoyed, bored, angry', 'feeling': 0}\n",
      "{'text': 'About to go to bed. Sleeping really late tomorrow!  I am so glad the Tigers won tonight!!', 'feeling': 1}\n",
      "{'text': \"Just grabbed some bagels from Panera for everyone at wk. It's Brittany's last day\", 'feeling': 0}\n",
      "{'text': \"AHH i'm so HAPPY. I just found my ipod.  God is sooo good to me!\", 'feeling': 1}\n",
      "{'text': 'Hoping for a better day today. Yesterday was fine until I passed out at my desk, fell off chair, and carpet burned my forehead.', 'feeling': 0}\n",
      "{'text': '@poepiandzegiant oops just saw you said hello! Hi there', 'feeling': 1}\n",
      "{'text': \"@jayadore fuckyeah ;) also yay shoes and bag!!!!!! I'm excited for you\", 'feeling': 1}\n",
      "{'text': \"say it ain't so #trackle say it ain't so!\", 'feeling': 0}\n",
      "{'text': 'att workkk dyinggg to get the fxckkkkk outt', 'feeling': 0}\n",
      "{'text': \"Said something harsh and didn't even realize it's harsh until I said it.. Sorry  http://myloc.me/2Keo\", 'feeling': 0}\n",
      "{'text': '@jchronowski47    oh no...tied now!   -Linda', 'feeling': 0}\n",
      "{'text': 'Twitter is useful in that it reminds people what they forgot to ask me about on a given day. It is also excellent for inspiration', 'feeling': 1}\n",
      "{'text': 'Hoping I at least have fun 2nite.  Today was 1 horrible way 2 start off a birthday', 'feeling': 0}\n",
      "{'text': \"@kirsty_gilfo yup! That's the one  Mmm....yum cha! Have lots of dumplings for me\", 'feeling': 1}\n",
      "{'text': 'Italian Shaved on the mall is D-licious and all over me!!!  and my printer...  But it is D-Licious!', 'feeling': 0}\n",
      "{'text': \"Mum's off to bed... Nip/tuck time noow\", 'feeling': 1}\n",
      "{'text': '@WKJThD but-I know He has awesome plans thru it all-and I will hold my head up high...  blessed with you all!!  HOW ARE YOU???', 'feeling': 1}\n",
      "{'text': 'Have been LOL big time at this Apprentice video http://ping.fm/vXPnd (via @tdrury) - Thanks, me and @rebel_aceman laughed at it too!', 'feeling': 1}\n",
      "{'text': 'Sometimes, people who hate Twitter are so much more amusing than people who use Twitter....', 'feeling': 1}\n",
      "{'text': '60+ Beautiful Logo Design Tutorials And Resources  http://bit.ly/Q5Jo0 Wel nice', 'feeling': 1}\n",
      "{'text': '@franklang Wish I were in Switzerland.... The blues are playing like amateurs', 'feeling': 0}\n",
      "{'text': \"@Junderstated lls ain't that the truth\", 'feeling': 1}\n",
      "{'text': \"@NileyLoveStory probably wesupportmustin :| I don't affilate myself with Niley videos on teammustin\", 'feeling': 1}\n",
      "{'text': 'My favorite song for now. I even learned the dance moves also  Ã¢â\\x84¢Â« http://blip.fm/~7sf9m', 'feeling': 1}\n",
      "{'text': 'Done with recital A     but it went well!!!  3 more to go!  yay!!!!!', 'feeling': 0}\n",
      "{'text': 'Nagging tummy ache 4 days now...kept me up w/ nightmares last night  tums are my bff rt now', 'feeling': 0}\n",
      "{'text': '500 fps', 'feeling': 1}\n",
      "{'text': '@polyzzz Goodnight and sweet dreams to you also', 'feeling': 1}\n",
      "{'text': 'Thinking of getting a tatoo', 'feeling': 1}\n",
      "{'text': \"@NMaize I miss Yobachi's totems  lol\", 'feeling': 0}\n",
      "{'text': '@sdawara ooooo.... even before @maheshmurthy started seedfund, the fund given in seed stage used to b called as seedfund..', 'feeling': 1}\n",
      "{'text': \"Need to visit the &quot;Australia Shop&quot; - I'm down to my last 2 Butter Menthols and my throat is still hurty\", 'feeling': 0}\n",
      "{'text': '@NicoleSimon Threat or promise?', 'feeling': 1}\n",
      "{'text': \"is drinking lovely tea she bought in London in December: Yumchaa's &quot;Caramel Sweetheart&quot;. It's almost all gone...  http://www.yumchaa.com/\", 'feeling': 0}\n",
      "{'text': '@GDuffOnline Thanks babe. Hitting the station 2day. Go drop some bangas.', 'feeling': 1}\n",
      "{'text': \"@Alphacat1 hehehe bless  you enjoy star trek, you should be sleeping it's late LOL bad kitty hehehe LoveYa\", 'feeling': 1}\n",
      "{'text': \"how sad is losing laptop's adaptor?\", 'feeling': 0}\n",
      "{'text': '@MeganCamp Those are all popular responses', 'feeling': 1}\n",
      "{'text': '@ddlovato owr family own a jehtskii (: buht ihts winter over here so ihave too wait till summer  jetskis are so fun.', 'feeling': 0}\n",
      "{'text': 'I miss the two david. archuleta and cook! HUHU  i miss them soooo baaad!', 'feeling': 0}\n",
      "{'text': '@etrangle k check ur hotmail! i cant rly help much now', 'feeling': 0}\n",
      "{'text': \"gonna sleep now la. tmr school.  no off-in-lieu for sat's vesak day. not fair. tmr programming. deal with codes again. haiyah.\", 'feeling': 0}\n",
      "{'text': '@MissSydneyJ Im good, lol... I feel awake', 'feeling': 1}\n",
      "{'text': '@AJDADDY lol I absolutely hate u!', 'feeling': 1}\n",
      "{'text': '@meaghanellenxo oh awesome =] i cant wait to hear it eh', 'feeling': 1}\n",
      "{'text': \"@squarespace This my last tweet to you.  I would LOVE to win an iphone but my luck hasn't been the best here lately. #squarespace\", 'feeling': 0}\n",
      "{'text': 'Wow... Airbus 380, take me away!  http://bit.ly/63feh', 'feeling': 1}\n",
      "{'text': 'Gotta do some chores now  Then will do a bit of revision, and then finish up my video!', 'feeling': 0}\n",
      "{'text': \"@D_AMAZIN Won't I get arrested if I am naked on the beach?lol\", 'feeling': 1}\n",
      "{'text': '@MeAllTimeLow i know. You were laughing while i was on the ground', 'feeling': 0}\n",
      "{'text': '@sharaknight dang it I got a second look and he was so good looking but I had to get off for my exit', 'feeling': 0}\n",
      "{'text': '@itsjudytime I just spent the last couple of hours on your YouTube channel.  Great videos!!!', 'feeling': 1}\n",
      "{'text': \"@Chicago_Ted I just miss driving my car.  I haven't driven it since I got back yet.\", 'feeling': 0}\n",
      "{'text': \"it's Julie's last day in the office before heading back to the UK for good  Cyprus will miss her.\", 'feeling': 0}\n",
      "{'text': 'is sad  things are already not the same....', 'feeling': 0}\n",
      "{'text': \"@TomRaftery No problem, my family have kept bee's for 4 generations, however I suffer from anaphylaxis to bee sting\", 'feeling': 0}\n",
      "{'text': 'my poor puppy is a litle depress', 'feeling': 0}\n",
      "{'text': 'Ohhhh lord production is going way over time! NY I wish was now... Vacation', 'feeling': 0}\n",
      "{'text': 'How to build a large MULTIMEDIA presentation online - from Soul of Athens 2009, LIVE TODAY!  http://bit.ly/1fBIk PLUS inspiring MM sites', 'feeling': 1}\n",
      "{'text': '@nicadler... im sooooo with ya', 'feeling': 1}\n",
      "{'text': \"My twitpic isn't working  I wanna show ya'll my sexy shoes I'm rockin tonight.....\", 'feeling': 0}\n",
      "{'text': '@beckaymc  no problem!  your welcome.', 'feeling': 1}\n",
      "{'text': \"Had to unfollow some people guys.    I can't get flooded every time.\", 'feeling': 0}\n",
      "{'text': '@logansutch You can go driving?! HOW?! WHY!', 'feeling': 0}\n",
      "{'text': 'Decided to play with the new arduino for the first time - sooo easy to get started  Now having fun with code and flashy lights!', 'feeling': 1}\n",
      "{'text': \"it's just about done!\", 'feeling': 1}\n",
      "{'text': '@DubDior Lmfaooooo .. i mean anything for u!  i tried to do that as smoove as possible! lol U was good tho !', 'feeling': 1}\n",
      "{'text': 'Hi Haters...who talking bout my Elem school pic Chellelilbmore@UrbanInformer i love your new pic you were handsome back then and still is', 'feeling': 1}\n",
      "{'text': 'On the way to camp at last. Think I might have offended someone at the meeting earlier, and it bugs me.', 'feeling': 0}\n",
      "{'text': 'i need sleep. Its too early. I went to bed at like 6 something because i couldnt sleep', 'feeling': 0}\n",
      "{'text': 'bliss n eso &amp; pink concert soon', 'feeling': 1}\n",
      "{'text': 'In 5 minutes my birthday is over', 'feeling': 0}\n",
      "{'text': 'Going to bed, strangely feeling quite nauseous', 'feeling': 0}\n",
      "{'text': 'Bored, was sewing but now RSI is troubling me', 'feeling': 0}\n",
      "{'text': '@JLSOfficial R jLs EvA gONnA PlAy iN DuBliN ???  sEeN YiS aT d ChiLdLinE CoNcErT DaHs iT', 'feeling': 0}\n",
      "{'text': '@LilPookieJ I learned from you', 'feeling': 1}\n",
      "{'text': '@ViolaMaths Wow, you must be shattered! Glad you enjoyed gig and hope maths lecture went well. Did you manage to stay awake?!!', 'feeling': 1}\n",
      "{'text': '@BillohBill &quot;projectile&quot; very clever warpig', 'feeling': 1}\n",
      "{'text': 'idont get it. its OUR vacation too so how cum we cant decide wat 2 do - its planned 4 us if we like it or not', 'feeling': 0}\n",
      "{'text': 'gota watch hollyoaks this morning, in bed me thinks', 'feeling': 1}\n",
      "{'text': 'Lunchtime walks in a bid to lose weight are most annoying when all the pubs one passes are throwing out delicious food smells', 'feeling': 0}\n",
      "{'text': '@vrthejas I have many more than that. .', 'feeling': 0}\n",
      "{'text': \"Back home! Feels great sitting in front of moi desk's 32' LCD\", 'feeling': 1}\n",
      "{'text': \"I'm just trying to write CIL I can't think of anything ARGHHH\", 'feeling': 0}\n",
      "{'text': 'listen music, and doing my homework', 'feeling': 0}\n",
      "{'text': 'Walked outside for a few mins, and now covered in Skeeter bites', 'feeling': 0}\n",
      "{'text': 'itunes says that an update is available (3.0), but then just does nothing when I press update', 'feeling': 0}\n",
      "{'text': \"Hmm don't know what to do today -- Model just canceled   = I hate it when that happens..will have to do gardening!\", 'feeling': 0}\n",
      "{'text': \"(@SHUTUP) it's so warm here  just the way i love it\", 'feeling': 1}\n",
      "{'text': 'Yes my laptop works  So now i can abort my diplomthesis', 'feeling': 1}\n",
      "{'text': '@halina1979 hey! sent you some pics to your podcart email. hope you get them alright', 'feeling': 1}\n",
      "{'text': 'Eminem... haha that was funny', 'feeling': 1}\n",
      "{'text': 'Still terrfied.  Joe just seems snotty with cold, but never had anything quite like this to deal with.  lost my invulnerability in 2007', 'feeling': 0}\n",
      "{'text': '@jannapha  I just wanted it to be clear and no confusion.', 'feeling': 0}\n",
      "{'text': '@deepakkapoor I make time to breathe in may calendar. Once a month I take a Friday off just because I can  #itsgoodtosleepin', 'feeling': 1}\n",
      "{'text': 'Must clean house  Klaxons to the rescue!', 'feeling': 0}\n",
      "{'text': '@sarvay Just saw you on @NBC12. Nice piece.', 'feeling': 1}\n",
      "{'text': 'Just said goodbye to the fam. The only sad part about leaving', 'feeling': 0}\n",
      "{'text': 'okay, so everyone else i went with seemed to hate brokeback mountain, or at least josie and zach did and they were the loudest criticizers.', 'feeling': 0}\n",
      "{'text': '@dmbtoffee we still have that to look forward to...  ...but only if u get better by monday.. so.. take care of urself.', 'feeling': 1}\n",
      "{'text': '@RylandWebb athletics carnival  seriously who even goes to them these days.', 'feeling': 1}\n",
      "{'text': 'Esses meus Followers vem sendo uma famÃ\\x83Â\\xadlia online para mim..', 'feeling': 1}\n",
      "{'text': \"@gnatty Sweet! Yeah, we thought yesterday was the last black-out date, but apparently not. I'll keep you updated!\", 'feeling': 1}\n",
      "{'text': 'BP Only half over&lt;3 My throat hurts  Who cares!', 'feeling': 0}\n",
      "{'text': \"@grahamcrackers &quot;I've got the peace that passes understanding down in my heart...Where?&quot;  Now I'll be singing it all night too!!\", 'feeling': 1}\n",
      "{'text': 'Im O.deee tired and jus finished my codes for web design II blahh school suckss', 'feeling': 0}\n",
      "{'text': 'GOOD MORNING VIETNAM   - http://bit.ly/1usuz', 'feeling': 1}\n",
      "{'text': '@mohammad111 Thank you for following me, I really appreciate it! Look forward to your tweets!', 'feeling': 1}\n",
      "{'text': \"going to thee cousin's house today!\", 'feeling': 1}\n",
      "{'text': '@krulvesen @eddieizzard The element-of-surprise-style-uniform has finally found its way to the U.S Army..  http://bit.ly/2ruWY', 'feeling': 1}\n",
      "{'text': 'Something nice in Paris this week?? I accept tips.. thanks', 'feeling': 1}\n",
      "{'text': \"@jakemcclain  Me too bro!  Let's keep in touch.\", 'feeling': 1}\n",
      "{'text': '@VictoriaIrene HAHA!! ) XD yar welcome!', 'feeling': 1}\n",
      "{'text': '@Shivalix  .. the forum is having alot of problems recently  wish it will hurry up and work :L xx', 'feeling': 0}\n",
      "{'text': 'wants two things to be back in the gym and vodka and cran', 'feeling': 1}\n",
      "{'text': \"@icebergstorm Thanks... I'm going to check that out right now.\", 'feeling': 1}\n",
      "{'text': \"It's always neat to listen in on people who have never seen the inside of The Fox before.  Lots of oooo's and aaaahhhhh's.\", 'feeling': 1}\n",
      "{'text': '@MrsPommeroy  TouchÃ\\x83Â©.  Steve Hewitt is far better, far cooler anyway. Placebo will lose their battle for the sun.', 'feeling': 1}\n",
      "{'text': '@feliciamarie139 yep.  i preordered it back in april. im soooo excited...i cant wait until the mail gets here today! hah.', 'feeling': 1}\n",
      "{'text': 'finishing new songs is nice', 'feeling': 1}\n",
      "{'text': 'I want to go shopping so bad but have to wait for the check onFriday.', 'feeling': 0}\n",
      "{'text': 'Leo is spending the night!', 'feeling': 1}\n",
      "{'text': 'Day light hours *shock* lol I love my new ear rings  http://tinyurl.com/loxv8x', 'feeling': 1}\n",
      "{'text': \"@fdevillamil Can't wait to see what's coming, and thank you for being extremely fast at replying  hope you are having a great day.\", 'feeling': 1}\n",
      "{'text': '@raybooysen still living in the past with #vistasquad tag', 'feeling': 1}\n",
      "{'text': \"@sc_mu spend my day with Xin'g &gt; sex all day  )) see ya later &gt; ask ur GIs 2 be removal men .ok 4 Bournemouth this weekend\", 'feeling': 1}\n",
      "{'text': '@eliiiiza  I used to just catch the train to Melb central and walk to everywhere from there. Got lost looking for chapel st recently!', 'feeling': 1}\n",
      "{'text': '@zazzle not following my zazzle tweets?', 'feeling': 0}\n",
      "{'text': '@brandizzle I want a massage...', 'feeling': 0}\n",
      "{'text': 'Happpy birthday Dean !', 'feeling': 1}\n",
      "{'text': 'Ready for my study date with tonay at b&amp;n.', 'feeling': 1}\n",
      "{'text': \"five zipper pouches and four drawstring project bags...and i'm spent.\", 'feeling': 1}\n",
      "{'text': 'painting my toenails and making my friend a bracalet', 'feeling': 1}\n",
      "{'text': \"@KinanLW Haha, it's like fried rice but you'll eat it as is, because there are pork or seafood or vegetables there already!  It's grilled!\", 'feeling': 1}\n",
      "{'text': \"@jordanknight Hey Hey Mr Knight, while you're rehearsing away, im sitting doing an assessment for college  UK misses you guys xxx\", 'feeling': 0}\n",
      "{'text': 'just left a memorial service for a co-worker', 'feeling': 0}\n",
      "{'text': \"@sarahobrien_  ahem... I'm nearly 16! lol. hahah. just another 20 days or so.  but no... what kid would care about the real world?! xx\", 'feeling': 1}\n",
      "{'text': 'Ok, bedtime, I gotta get ready for a weekend full of besties  YAY! Dear Chico graduates, I will bless you with my presence in two days!', 'feeling': 1}\n",
      "{'text': '@2kids1love I wanted burritos for tea but my mum said no like always so I had to have salad instead', 'feeling': 0}\n",
      "{'text': '2nd period studyhall + remembered my ipod = music time!', 'feeling': 1}\n",
      "{'text': \"@madierox Thanks hun, it's always nice to hear that  x\", 'feeling': 1}\n",
      "{'text': 'We have to take our clothes off to have a good time. (8) Nannanannaaaaaaaa (8)', 'feeling': 1}\n",
      "{'text': 'oooh my first twitter maintenance!', 'feeling': 1}\n",
      "{'text': 'IO Psychic TV project facebook account is taking off!    http://bit.ly/ubs1i  - the story is gettin out!', 'feeling': 1}\n",
      "{'text': '@ChrisOnAir Missed the damn show on Friday', 'feeling': 0}\n",
      "{'text': '@nataliehitz No wonder la ratings high', 'feeling': 1}\n",
      "{'text': '@ayubella hey! thank god,your online! im dying cuz im so bored. nobody wants to talk to me.', 'feeling': 0}\n",
      "{'text': '@paul_steele my name is chelsea.', 'feeling': 0}\n",
      "{'text': \"@thejetset ... and finally there's an iPhone app that is under review with Apple. It's the ultimate phonebook in my not so humble opinion\", 'feeling': 1}\n",
      "{'text': '@unitechy yeah! it does! let me tweet u the link!', 'feeling': 1}\n",
      "{'text': '@chopped4snuff do you really?  lol', 'feeling': 0}\n",
      "{'text': \"@KSwissInc they're half a size too small (tried them today) and i need them for a trip on monday, no one is answering at customer service\", 'feeling': 0}\n",
      "{'text': '@judykyho ~ my dear judy ... take care ... ...', 'feeling': 1}\n",
      "{'text': 'Finally got my official LBP sackboy off YouTube', 'feeling': 1}\n",
      "{'text': '@liamyoung morning', 'feeling': 1}\n",
      "{'text': 'freaking out', 'feeling': 0}\n",
      "{'text': 'im eating cassandra is a girl....i think ;D jk srry for your tummy  ???? i cant make it better im over hear and your there  im srry rubtum', 'feeling': 0}\n",
      "{'text': '@ashphilip I KNOW! the wind is friggin hot too! so disgusting', 'feeling': 0}\n",
      "{'text': 'Being a crazy girlfriend and surprising Evan by being at his car when he walks out', 'feeling': 1}\n",
      "{'text': 'in the office today - Server Upgrades  Listening to ACDC, looking forward to the concert next year!', 'feeling': 1}\n",
      "{'text': \"these instructions are from stinksville. at the end of day one it's rovio: 1 jerry: 0. stay tuned.... paging dr @propmasta, america's cto\", 'feeling': 1}\n",
      "{'text': \"I'm being all avoidy with people from my project.\", 'feeling': 0}\n",
      "{'text': \"Still at work ..... working, it's going to be a long day\", 'feeling': 0}\n",
      "{'text': \"just about finished my personal growth plan for next year, very exciting stuff - can't wait to get it started again\", 'feeling': 1}\n",
      "{'text': 'go shopping  !!', 'feeling': 1}\n",
      "{'text': '@theashleytaylor I Miss You ASSHOLE!!!!!!.....Come Contaminate My Life With German-ness.', 'feeling': 1}\n",
      "{'text': \"I've been patiently waiting for the new AP to come, but it still hasn't! I don't know what to do with myself\", 'feeling': 0}\n",
      "{'text': 'wakin up early!! runnin errrands', 'feeling': 1}\n",
      "{'text': \"@Satans_Thong he's a thinker him\", 'feeling': 1}\n",
      "{'text': '@Bluwiikoon YEAH WELL.  STUFF LIKE THIS IS ONE OF THE FEW THINGS THAT MAKES MY MANLY EXTERIOR EXPLODE', 'feeling': 0}\n",
      "{'text': \"@doberama I've stopped running now. Definitely. Until tomorrow at least. Hope this makes you feel better\", 'feeling': 1}\n",
      "{'text': 'cant sleep. tossing and turning without him by my side', 'feeling': 0}\n",
      "{'text': \"@Pj18113 ur a junior member so i can't watch you\", 'feeling': 0}\n",
      "{'text': '@LeelooDogBlog thought it was done but still a bit pink.... dammmnnnn back in', 'feeling': 0}\n",
      "{'text': '@batbuick .. .great.. you can buy me lunch when i get my 10-15% pay cut next month..', 'feeling': 0}\n",
      "{'text': 'Church was good now @ the Chessecake factory for lunch', 'feeling': 1}\n",
      "{'text': \"@LeanneBarbery Dam we where gonna go to Northgate but LIL G is full of cold  much to Molly's disgust just not worth it tho!\", 'feeling': 0}\n",
      "{'text': 'hey,this ad is technically wrong,,Earth looked too big in size ,  http://tinyurl.com/rxuz7e', 'feeling': 1}\n",
      "{'text': \"#hoppusday Mark, you should make a YouTube channel and film Blink-182 studio updates! We'd all appreciate that.\", 'feeling': 1}\n",
      "{'text': \"@Jonperezinsd @BoomboxBui I can't tonight... I am still sore!  Hopefully I'll be ready within the next couple of days.\", 'feeling': 0}\n",
      "{'text': \"I think I'm blocked again... when am I going to finish these book???\", 'feeling': 0}\n",
      "{'text': '@renmiu I might', 'feeling': 1}\n",
      "{'text': '@carkeen Yes, ONE hour!', 'feeling': 0}\n",
      "{'text': '@clippercutqueen Thanks babe!  Got anymore photos?', 'feeling': 1}\n",
      "{'text': \"@nevynxxx Let's hope they do, then we can ask them to turn it down   (I'm an old woman, it'll hurt my ageing ears)\", 'feeling': 1}\n",
      "{'text': \"@PRETTiE good timing on the vid  lol okay I'll stop\", 'feeling': 1}\n",
      "{'text': \"@jonasbrothers http://twitpic.com/5t2p6 - JONAS COME TO BOLIVIA PLEASE! YOU CAME TO SOUTH AMERICA.. BUT YOU DIDN'T COME TO BOLIVIA  .. ...\", 'feeling': 0}\n",
      "{'text': \"there's this man in our roof.. like literally in our roof.. I wana go up and look nowwww\", 'feeling': 0}\n",
      "{'text': 'emma love you to death, miss you tons.  wish you never moved  want to see you, thinking of you always. love you emma.', 'feeling': 0}\n",
      "{'text': '@evila_elf lucky for you, then. I always seem to get more red than anything else.', 'feeling': 1}\n",
      "{'text': \"AW, MAN. My dad got me Sims 3 for my birthday but it won't work on any of the computers. Major sadface\", 'feeling': 0}\n",
      "{'text': '@jennyrae Wow, I really hope it gets better. Asthma sucks', 'feeling': 0}\n",
      "{'text': \"nearly finished c4, and i'm out tomorrow\", 'feeling': 0}\n",
      "{'text': 'From who-cares attitude, I am now addicted to this latest Kdrama. Gee. Korean shows passion while eating', 'feeling': 1}\n",
      "{'text': '@ultrabrilliant @schwimmersear @andihero @philwal Is this gameporn thing making anyone else miss the BoB?', 'feeling': 0}\n",
      "{'text': 'I am dying for a Chicken Royale  yumyum, pity the nearest burger king is a bout half an hour away', 'feeling': 0}\n",
      "{'text': \"the internet still doesn't work. If this lasts past this evening, I might die. Oh I miss the interweb.\", 'feeling': 0}\n",
      "{'text': 'jumprope session cancelled. i gotta watch Another Cinderella Story @ YouTube. if it finishes before sundown i might jumprope.', 'feeling': 1}\n",
      "{'text': 'I love the sandbox mentions! &lt;3 Somehow my mind goes slightly to the gutter everytime I hear it though.', 'feeling': 1}\n",
      "{'text': 'I hate when its beautiful out and i cant speed on the hwy!   &lt;3kels', 'feeling': 0}\n",
      "{'text': 'Good writing session. Now off to the dentist. Groan. I hate the dentist', 'feeling': 0}\n",
      "{'text': \"wonders why he's getting such puny karma updates.  http://plurk.com/p/x68ty\", 'feeling': 0}\n",
      "{'text': '@Teleos @traderpsyches I always wanted to do this as a kid; SIMON says  http://bit.ly/3uW2b', 'feeling': 1}\n",
      "{'text': 'Mood: bored', 'feeling': 0}\n",
      "{'text': '@JessicaBrea lol- where in Georgia- cause Im right by the border...  unfortunately', 'feeling': 0}\n",
      "{'text': \"Chillin' with @shallwemosh ;) always a good time !\", 'feeling': 1}\n",
      "{'text': \"@pbromberg yes to Boopsie, I couldn't get to work right on the iphone\", 'feeling': 0}\n",
      "{'text': 'shorts and tank top', 'feeling': 1}\n",
      "{'text': 'the inspector in the latest webkit is badly broken.', 'feeling': 0}\n",
      "{'text': 'my backyard is a natural wonder to wake up to...saw baby geese feeding with momma, a muskrat, first turtle eggs of the year, and a bunny', 'feeling': 1}\n",
      "{'text': '@failingwords exams. Still have 8 left while most of my friends only have 4 or 5  sucks.', 'feeling': 0}\n",
      "{'text': 'CHILLN AT DUH HOUSE ...  A LiL SAD CUz HE BROKE HiiZ PROMiiSE N ii HAD TRUST N HiiM ...', 'feeling': 0}\n",
      "{'text': 'and a third when i pressed the ctrl key', 'feeling': 0}\n",
      "{'text': '@anhicaluvsjonas  how come? xxx', 'feeling': 0}\n",
      "{'text': \"@kariajay  All this time you didn't notice I was gone...just needed DB2 is it??\", 'feeling': 0}\n",
      "{'text': \"I'm sad because I know if I were a celebrity chef, I would be Paula Deen. I love butter!\", 'feeling': 0}\n",
      "{'text': '@duskdargent What a poop of a game', 'feeling': 0}\n",
      "{'text': 'thanks  @vintageglam   http://vintageglamblog.com/category/accessories/', 'feeling': 1}\n",
      "{'text': \"Uck. Chronic stomach problems leads to two icky tests for me today.   If they find a cure for J, I'm sure I would miraculously get better.\", 'feeling': 0}\n",
      "{'text': 'Meet the parents night went great!', 'feeling': 1}\n",
      "{'text': '@MomofFaith Oh that SUCKS!  You should write Wal-Mart and complain.', 'feeling': 0}\n",
      "{'text': 'thunderstorms tomorrow apparently  dnw', 'feeling': 0}\n",
      "{'text': \"@halpyros I found the perfect fries! Ivanlian can vouch for me, it's on hcmc\", 'feeling': 0}\n",
      "{'text': 'Update : SL won toss chose to bat . Pak bowling #PakCricket #fb score SL 12 - 2. Got here late missed opening', 'feeling': 0}\n",
      "{'text': \"@tevi well it's for mac  which makes it not awesome\", 'feeling': 0}\n",
      "{'text': 'at tegus x 2 days only', 'feeling': 0}\n",
      "{'text': 'so, nobody wants to help me decide?', 'feeling': 0}\n",
      "{'text': \"@itwittmyclit I hope your chest is doing better!  don't make me worry!\", 'feeling': 0}\n",
      "{'text': \"@cascandar Ooh, Ooh, I know....it's a chicken!!!!! Yay me!!!!\", 'feeling': 1}\n",
      "{'text': \"@DiSCOLENA that's too sad  @tommcfly lyrics are the best!\", 'feeling': 0}\n",
      "{'text': \"@EmilyHeinz.. We don't wanna stckam anymoree\", 'feeling': 0}\n"
     ]
    },
    {
     "ename": "KeyboardInterrupt",
     "evalue": "",
     "output_type": "error",
     "traceback": [
      "\u001b[0;31m---------------------------------------------------------------------------\u001b[0m",
      "\u001b[0;31mKeyboardInterrupt\u001b[0m                         Traceback (most recent call last)",
      "\u001b[0;32m/var/folders/3z/29w5rr9d0k3_p863hm40sdnc0000gn/T/ipykernel_33697/3016917118.py\u001b[0m in \u001b[0;36m<module>\u001b[0;34m\u001b[0m\n\u001b[1;32m     33\u001b[0m     \u001b[0moptimiser\u001b[0m\u001b[0;34m.\u001b[0m\u001b[0mzero_grad\u001b[0m\u001b[0;34m(\u001b[0m\u001b[0;34m)\u001b[0m\u001b[0;34m\u001b[0m\u001b[0;34m\u001b[0m\u001b[0m\n\u001b[1;32m     34\u001b[0m \u001b[0;34m\u001b[0m\u001b[0m\n\u001b[0;32m---> 35\u001b[0;31m \u001b[0mtrain\u001b[0m\u001b[0;34m(\u001b[0m\u001b[0mrnn\u001b[0m\u001b[0;34m,\u001b[0m \u001b[0mtrain_set\u001b[0m\u001b[0;34m)\u001b[0m\u001b[0;34m\u001b[0m\u001b[0;34m\u001b[0m\u001b[0m\n\u001b[0m",
      "\u001b[0;32m/var/folders/3z/29w5rr9d0k3_p863hm40sdnc0000gn/T/ipykernel_33697/3016917118.py\u001b[0m in \u001b[0;36mtrain\u001b[0;34m(model, dataset)\u001b[0m\n\u001b[1;32m     19\u001b[0m \u001b[0;34m\u001b[0m\u001b[0m\n\u001b[1;32m     20\u001b[0m     \u001b[0;31m# MAKE PREDICTION\u001b[0m\u001b[0;34m\u001b[0m\u001b[0;34m\u001b[0m\u001b[0;34m\u001b[0m\u001b[0m\n\u001b[0;32m---> 21\u001b[0;31m     \u001b[0mprediction\u001b[0m \u001b[0;34m=\u001b[0m \u001b[0mmodel\u001b[0m\u001b[0;34m(\u001b[0m\u001b[0mtoken_idxs\u001b[0m\u001b[0;34m)\u001b[0m \u001b[0;31m# make prediction\u001b[0m\u001b[0;34m\u001b[0m\u001b[0;34m\u001b[0m\u001b[0m\n\u001b[0m\u001b[1;32m     22\u001b[0m \u001b[0;34m\u001b[0m\u001b[0m\n\u001b[1;32m     23\u001b[0m     \u001b[0;31m# CALCULATE LOSS\u001b[0m\u001b[0;34m\u001b[0m\u001b[0;34m\u001b[0m\u001b[0;34m\u001b[0m\u001b[0m\n",
      "\u001b[0;32m~/opt/miniconda3/lib/python3.9/site-packages/torch/nn/modules/module.py\u001b[0m in \u001b[0;36m_call_impl\u001b[0;34m(self, *input, **kwargs)\u001b[0m\n\u001b[1;32m   1128\u001b[0m         if not (self._backward_hooks or self._forward_hooks or self._forward_pre_hooks or _global_backward_hooks\n\u001b[1;32m   1129\u001b[0m                 or _global_forward_hooks or _global_forward_pre_hooks):\n\u001b[0;32m-> 1130\u001b[0;31m             \u001b[0;32mreturn\u001b[0m \u001b[0mforward_call\u001b[0m\u001b[0;34m(\u001b[0m\u001b[0;34m*\u001b[0m\u001b[0minput\u001b[0m\u001b[0;34m,\u001b[0m \u001b[0;34m**\u001b[0m\u001b[0mkwargs\u001b[0m\u001b[0;34m)\u001b[0m\u001b[0;34m\u001b[0m\u001b[0;34m\u001b[0m\u001b[0m\n\u001b[0m\u001b[1;32m   1131\u001b[0m         \u001b[0;31m# Do not call functions when jit is used\u001b[0m\u001b[0;34m\u001b[0m\u001b[0;34m\u001b[0m\u001b[0;34m\u001b[0m\u001b[0m\n\u001b[1;32m   1132\u001b[0m         \u001b[0mfull_backward_hooks\u001b[0m\u001b[0;34m,\u001b[0m \u001b[0mnon_full_backward_hooks\u001b[0m \u001b[0;34m=\u001b[0m \u001b[0;34m[\u001b[0m\u001b[0;34m]\u001b[0m\u001b[0;34m,\u001b[0m \u001b[0;34m[\u001b[0m\u001b[0;34m]\u001b[0m\u001b[0;34m\u001b[0m\u001b[0;34m\u001b[0m\u001b[0m\n",
      "\u001b[0;32m/var/folders/3z/29w5rr9d0k3_p863hm40sdnc0000gn/T/ipykernel_33697/1878475412.py\u001b[0m in \u001b[0;36mforward\u001b[0;34m(self, X)\u001b[0m\n\u001b[1;32m     25\u001b[0m     \u001b[0membedding\u001b[0m \u001b[0;34m=\u001b[0m \u001b[0mself\u001b[0m\u001b[0;34m.\u001b[0m\u001b[0membedding\u001b[0m\u001b[0;34m(\u001b[0m\u001b[0mX\u001b[0m\u001b[0;34m)\u001b[0m \u001b[0;31m# TODO get embedding of input\u001b[0m\u001b[0;34m\u001b[0m\u001b[0;34m\u001b[0m\u001b[0m\n\u001b[1;32m     26\u001b[0m \u001b[0;34m\u001b[0m\u001b[0m\n\u001b[0;32m---> 27\u001b[0;31m     \u001b[0moutputs\u001b[0m\u001b[0;34m,\u001b[0m \u001b[0mfinal_hidden\u001b[0m \u001b[0;34m=\u001b[0m \u001b[0mself\u001b[0m\u001b[0;34m.\u001b[0m\u001b[0mrnn\u001b[0m\u001b[0;34m(\u001b[0m\u001b[0membedding\u001b[0m\u001b[0;34m)\u001b[0m\u001b[0;34m\u001b[0m\u001b[0;34m\u001b[0m\u001b[0m\n\u001b[0m\u001b[1;32m     28\u001b[0m \u001b[0;34m\u001b[0m\u001b[0m\n\u001b[1;32m     29\u001b[0m     \u001b[0mfinal_output\u001b[0m \u001b[0;34m=\u001b[0m \u001b[0moutputs\u001b[0m\u001b[0;34m[\u001b[0m\u001b[0;34m-\u001b[0m\u001b[0;36m1\u001b[0m\u001b[0;34m]\u001b[0m\u001b[0;34m\u001b[0m\u001b[0;34m\u001b[0m\u001b[0m\n",
      "\u001b[0;32m~/opt/miniconda3/lib/python3.9/site-packages/torch/nn/modules/module.py\u001b[0m in \u001b[0;36m_call_impl\u001b[0;34m(self, *input, **kwargs)\u001b[0m\n\u001b[1;32m   1128\u001b[0m         if not (self._backward_hooks or self._forward_hooks or self._forward_pre_hooks or _global_backward_hooks\n\u001b[1;32m   1129\u001b[0m                 or _global_forward_hooks or _global_forward_pre_hooks):\n\u001b[0;32m-> 1130\u001b[0;31m             \u001b[0;32mreturn\u001b[0m \u001b[0mforward_call\u001b[0m\u001b[0;34m(\u001b[0m\u001b[0;34m*\u001b[0m\u001b[0minput\u001b[0m\u001b[0;34m,\u001b[0m \u001b[0;34m**\u001b[0m\u001b[0mkwargs\u001b[0m\u001b[0;34m)\u001b[0m\u001b[0;34m\u001b[0m\u001b[0;34m\u001b[0m\u001b[0m\n\u001b[0m\u001b[1;32m   1131\u001b[0m         \u001b[0;31m# Do not call functions when jit is used\u001b[0m\u001b[0;34m\u001b[0m\u001b[0;34m\u001b[0m\u001b[0;34m\u001b[0m\u001b[0m\n\u001b[1;32m   1132\u001b[0m         \u001b[0mfull_backward_hooks\u001b[0m\u001b[0;34m,\u001b[0m \u001b[0mnon_full_backward_hooks\u001b[0m \u001b[0;34m=\u001b[0m \u001b[0;34m[\u001b[0m\u001b[0;34m]\u001b[0m\u001b[0;34m,\u001b[0m \u001b[0;34m[\u001b[0m\u001b[0;34m]\u001b[0m\u001b[0;34m\u001b[0m\u001b[0;34m\u001b[0m\u001b[0m\n",
      "\u001b[0;32m~/opt/miniconda3/lib/python3.9/site-packages/torch/nn/modules/rnn.py\u001b[0m in \u001b[0;36mforward\u001b[0;34m(self, input, hx)\u001b[0m\n\u001b[1;32m    469\u001b[0m         \u001b[0;32mif\u001b[0m \u001b[0mbatch_sizes\u001b[0m \u001b[0;32mis\u001b[0m \u001b[0;32mNone\u001b[0m\u001b[0;34m:\u001b[0m\u001b[0;34m\u001b[0m\u001b[0;34m\u001b[0m\u001b[0m\n\u001b[1;32m    470\u001b[0m             \u001b[0;32mif\u001b[0m \u001b[0mself\u001b[0m\u001b[0;34m.\u001b[0m\u001b[0mmode\u001b[0m \u001b[0;34m==\u001b[0m \u001b[0;34m'RNN_TANH'\u001b[0m\u001b[0;34m:\u001b[0m\u001b[0;34m\u001b[0m\u001b[0;34m\u001b[0m\u001b[0m\n\u001b[0;32m--> 471\u001b[0;31m                 result = _VF.rnn_tanh(input, hx, self._flat_weights, self.bias, self.num_layers,\n\u001b[0m\u001b[1;32m    472\u001b[0m                                       \u001b[0mself\u001b[0m\u001b[0;34m.\u001b[0m\u001b[0mdropout\u001b[0m\u001b[0;34m,\u001b[0m \u001b[0mself\u001b[0m\u001b[0;34m.\u001b[0m\u001b[0mtraining\u001b[0m\u001b[0;34m,\u001b[0m \u001b[0mself\u001b[0m\u001b[0;34m.\u001b[0m\u001b[0mbidirectional\u001b[0m\u001b[0;34m,\u001b[0m\u001b[0;34m\u001b[0m\u001b[0;34m\u001b[0m\u001b[0m\n\u001b[1;32m    473\u001b[0m                                       self.batch_first)\n",
      "\u001b[0;31mKeyboardInterrupt\u001b[0m: "
     ]
    }
   ],
   "source": [
    "import torch\n",
    "import torch.nn.functional as F\n",
    "\n",
    "def train(model, dataset):\n",
    "  optimiser = torch.optim.SGD(model.parameters(), lr=0.01)# define optimiser and set learning rate\n",
    "  # a number of times\n",
    "  for example in dataset: # iterate throguh the dataset\n",
    "    \n",
    "    # UNPACK EXAMPLE\n",
    "    print(example)\n",
    "    tweet = example[\"text\"]\n",
    "    sentiment = example[\"feeling\"]\n",
    "    \n",
    "    # PREPROCESS TEXT\n",
    "    token_idxs = preprocess_text(tweet)\n",
    "    \n",
    "    # torch tensor and resize\n",
    "    sentiment = torch.tensor(sentiment)\n",
    "    \n",
    "    # MAKE PREDICTION\n",
    "    prediction = model(token_idxs) # make prediction\n",
    "    \n",
    "    # CALCULATE LOSS\n",
    "    loss = F.binary_cross_entropy(prediction.squeeze(), sentiment.float()) # calculate loss\n",
    "    \n",
    "    # CALCULATE GRADIENTS\n",
    "    loss.backward()\n",
    "    \n",
    "    # MOVE PARAMETERS\n",
    "    optimiser.step()\n",
    "\n",
    "    # ZERO GRAD\n",
    "    optimiser.zero_grad()\n",
    "\n",
    "train(rnn, train_set)"
   ]
  },
  {
   "cell_type": "code",
   "execution_count": null,
   "metadata": {},
   "outputs": [],
   "source": []
  }
 ],
 "metadata": {
  "kernelspec": {
   "display_name": "base",
   "language": "python",
   "name": "python3"
  },
  "language_info": {
   "codemirror_mode": {
    "name": "ipython",
    "version": 3
   },
   "file_extension": ".py",
   "mimetype": "text/x-python",
   "name": "python",
   "nbconvert_exporter": "python",
   "pygments_lexer": "ipython3",
   "version": "3.9.5"
  },
  "orig_nbformat": 4,
  "vscode": {
   "interpreter": {
    "hash": "ffef1fb3247e42ae9cf3614f3519d4998b3b95643236a5d32641564963f5a3b8"
   }
  }
 },
 "nbformat": 4,
 "nbformat_minor": 2
}
